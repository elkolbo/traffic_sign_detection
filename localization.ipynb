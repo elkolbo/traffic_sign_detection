{
  "cells": [
    {
      "cell_type": "code",
      "execution_count": 3,
      "metadata": {
        "id": "6WA7t9ZGRw_a"
      },
      "outputs": [],
      "source": [
        "import numpy as np\n",
        "import pandas as pd\n",
        "import sklearn\n",
        "import matplotlib.pyplot as plt\n",
        "import tensorflow as tf\n",
        "\n",
        "from tensorflow.keras.preprocessing.image import load_img, img_to_array\n",
        "from skimage import data, color, io\n",
        "from skimage.transform import hough_circle, hough_circle_peaks, hough_ellipse\n",
        "from skimage.feature import canny\n",
        "from skimage.draw import circle_perimeter, ellipse_perimeter\n",
        "from skimage.color import rgb2hsv, rgb2gray"
      ]
    },
    {
      "cell_type": "code",
      "execution_count": 8,
      "metadata": {
        "colab": {
          "base_uri": "https://localhost:8080/",
          "height": 1000
        },
        "id": "Ocoed7SFT3RR",
        "outputId": "e1e973ee-eb79-4dc4-91bf-94b8b67345fe"
      },
      "outputs": [
        {
          "ename": "IndentationError",
          "evalue": "unexpected indent (2152078165.py, line 62)",
          "output_type": "error",
          "traceback": [
            "\u001b[1;36m  Input \u001b[1;32mIn [8]\u001b[1;36m\u001b[0m\n\u001b[1;33m    for center_y, center_x, radius in zip(cy, cx, radii):\u001b[0m\n\u001b[1;37m    ^\u001b[0m\n\u001b[1;31mIndentationError\u001b[0m\u001b[1;31m:\u001b[0m unexpected indent\n"
          ]
        }
      ],
      "source": [
        "def extract_signs(\n",
        "    imagepath=r\"C:\\Users\\loren\\Documents\\AI_BME\\traffic\\training_images\\7.jpg\",\n",
        "):\n",
        "    # Load picture\n",
        "\n",
        "\n",
        "    image_rgb = io.imread(imagepath)\n",
        "    # Convert the image to the HSV color space\n",
        "    hsv_image = color.rgb2hsv(image)\n",
        "\n",
        "    # Extract the red channel (Hue) from the HSV image\n",
        "    red_hue = hsv_image[:, :, 0]\n",
        "\n",
        "    # Perform histogram equalization on the red channel\n",
        "    red_hue_equalized = exposure.equalize_hist(red_hue)\n",
        "\n",
        "    # Replace the red channel with the equalized one in the HSV image\n",
        "    hsv_image[:, :, 0] = red_hue_equalized\n",
        "\n",
        "    # Convert the HSV image back to RGB\n",
        "    enhanced_image = color.hsv2rgb(hsv_image)\n",
        "\n",
        "    # Convert the RGB image to grayscale\n",
        "\n",
        "\n",
        "    image_gray = rgb2gray(enhanced_image)\n",
        "\n",
        "\n",
        "    io.imshow(image_gray)\n",
        "\n",
        "\n",
        "    io.show()\n",
        "\n",
        "\n",
        "    edges = canny(image_gray)\n",
        "\n",
        "\n",
        "    # Detect multiple radii\n",
        "\n",
        "\n",
        "    hough_radii = np.arange(10, 30, 1)\n",
        "    hough_res = hough_circle(edges, hough_radii)\n",
        "\n",
        "\n",
        "    # Select the most prominent 3 circles per radius\n",
        "\n",
        "    accums, cx, cy, radii = hough_circle_peaks(hough_res, hough_radii, num_peaks=3)\n",
        "\n",
        "\n",
        "    # Draw the circles into the image (green)\n",
        "\n",
        "    fig, ax = plt.subplots(ncols=1, nrows=1, figsize=(10, 4))\n",
        "\n",
        "\n",
        "    for center_y, center_x, radius in zip(cy, cx, radii):\n",
        "        circy, circx = circle_perimeter(center_y, center_x, radius, shape=image.shape)\n",
        "\n",
        "\n",
        "        image_rgb[circy, circx] = (20, 200, 20)\n",
        "\n",
        "\n",
        "    # Show the image with circles\n",
        "\n",
        "    ax.imshow(image_rgb)\n",
        "    plt.show()\n",
        "\n",
        "    # Extract the parts with circles and store the subimages\n",
        "    subimages = []\n",
        "    for center_y, center_x, radius in zip(cy, cx, radii):\n",
        "        small = image_rgb[\n",
        "            center_y - radius : center_y + radius, center_x - radius : center_x + radius\n",
        "        ]\n",
        "        subimages.append(small)\n",
        "\n",
        "    return subimages"
      ]
    }
  ],
  "metadata": {
    "colab": {
      "provenance": []
    },
    "kernelspec": {
      "display_name": "Python 3",
      "name": "python3"
    },
    "language_info": {
      "codemirror_mode": {
        "name": "ipython",
        "version": 3
      },
      "file_extension": ".py",
      "mimetype": "text/x-python",
      "name": "python",
      "nbconvert_exporter": "python",
      "pygments_lexer": "ipython3",
      "version": "3.10.6"
    }
  },
  "nbformat": 4,
  "nbformat_minor": 0
}
